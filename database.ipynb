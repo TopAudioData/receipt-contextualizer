{
 "cells": [
  {
   "cell_type": "code",
   "execution_count": 4,
   "metadata": {},
   "outputs": [],
   "source": [
    "from venv import create\n",
    "import psycopg2\n",
    "from psycopg2.extras import execute_values\n",
    "from pgvector.psycopg2 import register_vector\n",
    "from psycopg2 import sql\n",
    "\n",
    "import pandas as pd\n",
    "import numpy as np"
   ]
  },
  {
   "cell_type": "code",
   "execution_count": 3,
   "metadata": {},
   "outputs": [],
   "source": [
    "def connect_cursor():\n",
    "    '''Connects to postgres, returns (connection, cursor)'''\n",
    "    try:\n",
    "        conn = psycopg2.connect(\n",
    "            host=\"localhost\",\n",
    "            database=\"receipts\",\n",
    "            user=\"postgres\",\n",
    "            password='postgres'\n",
    "        )\n",
    "        cur = conn.cursor()\n",
    "        # Register the vector type with psycopg2\n",
    "        register_vector(conn)\n",
    "    except:\n",
    "        print('Error connecting to database')\n",
    "    return (conn, cur)"
   ]
  },
  {
   "cell_type": "code",
   "execution_count": 5,
   "metadata": {},
   "outputs": [],
   "source": [
    "# Setup\n",
    "def setup_vector():\n",
    "    try:\n",
    "        conn = psycopg2.connect(\n",
    "            host=\"localhost\",\n",
    "            database=\"receipts\",\n",
    "            user=\"postgres\",\n",
    "            password='postgres'\n",
    "        )\n",
    "        cur = conn.cursor()\n",
    "        \n",
    "        # Install pgvector\n",
    "        cur.execute(\"CREATE EXTENSION IF NOT EXISTS vector\");\n",
    "    except:\n",
    "        print('Error connecting to database')\n",
    "    conn.commit()\n",
    "    conn.close()"
   ]
  },
  {
   "cell_type": "code",
   "execution_count": 11,
   "metadata": {},
   "outputs": [],
   "source": [
    "def setup_rewe_table():\n",
    "    '''Fills rewe table with store products, embeddings'''\n",
    "    conn, cur = connect_cursor()\n",
    "\n",
    "    df_rewe = pd.read_csv('data/name_embeds_incl_special_items_no_context.csv', index_col=0)\n",
    "\n",
    "    data_list = [(row['name'], row['price'], row['category'], row['embeddings']) for _, row in df_rewe.iterrows()]\n",
    "    #print(data_list[0:5])\n",
    "    #print(df_rewe)\n",
    "    \n",
    "    try:\n",
    "        execute_values(cur, \"INSERT INTO rewe (name, price, category, embedding) VALUES %s\", data_list)\n",
    "    except Exception as e:\n",
    "        print(f\"Error occurred: {e}\")\n",
    "    conn.commit()\n",
    "    conn.close()"
   ]
  },
  {
   "cell_type": "code",
   "execution_count": 12,
   "metadata": {},
   "outputs": [],
   "source": [
    "'''Run setup\n",
    "    \n",
    "Installs vector extension to postgres\n",
    "Sets up receipts table\n",
    "Sets up rewe table\n",
    "Fill rewe table with products and embeddings'''\n",
    "\n",
    "# Install pgvector\n",
    "setup_vector()\n",
    "\n",
    "# Fill in rewe table\n",
    "setup_rewe_table()"
   ]
  },
  {
   "cell_type": "code",
   "execution_count": null,
   "metadata": {},
   "outputs": [],
   "source": []
  },
  {
   "cell_type": "code",
   "execution_count": null,
   "metadata": {},
   "outputs": [],
   "source": []
  }
 ],
 "metadata": {
  "kernelspec": {
   "display_name": ".venv",
   "language": "python",
   "name": "python3"
  },
  "language_info": {
   "codemirror_mode": {
    "name": "ipython",
    "version": 3
   },
   "file_extension": ".py",
   "mimetype": "text/x-python",
   "name": "python",
   "nbconvert_exporter": "python",
   "pygments_lexer": "ipython3",
   "version": "3.11.3"
  }
 },
 "nbformat": 4,
 "nbformat_minor": 2
}
