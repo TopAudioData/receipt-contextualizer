{
 "cells": [
  {
   "cell_type": "markdown",
   "metadata": {},
   "source": [
    "### Receipt readout\n",
    "This notebook is used to extract the abbreviated product names and prices from the receipts and writes the output into a dataframe."
   ]
  },
  {
   "cell_type": "code",
   "execution_count": 1,
   "metadata": {},
   "outputs": [],
   "source": [
    "# import libraries\n",
    "import os\n",
    "from dotenv import load_dotenv\n",
    "import pandas as pd\n",
    "import numpy as np\n",
    "\n",
    "SA_KEY=os.getenv(\"GOOGLE_SA_KEY\")\n",
    "os.environ[\"GOOGLE_APPLICATION_CREDENTIALS\"] = SA_KEY"
   ]
  },
  {
   "cell_type": "code",
   "execution_count": 4,
   "metadata": {},
   "outputs": [],
   "source": [
    "# Googles OCR function\n",
    "def detect_text(path):\n",
    "    \"\"\"Detects text in the file.\"\"\"\n",
    "    from google.cloud import vision\n",
    "\n",
    "    client = vision.ImageAnnotatorClient()\n",
    "\n",
    "    with open(path, \"rb\") as image_file:\n",
    "        content = image_file.read()\n",
    "\n",
    "    image = vision.Image(content=content)\n",
    "\n",
    "    response = client.text_detection(image=image)\n",
    "    texts = response.text_annotations\n",
    "    \n",
    "    '''\n",
    "    # commented out to supress printed output of the function\n",
    "    print(\"Texts:\")\n",
    "    for text in texts:\n",
    "        print(f'\\n\"{text.description}\"')\n",
    "\n",
    "        vertices = [\n",
    "            f\"({vertex.x},{vertex.y})\" for vertex in text.bounding_poly.vertices\n",
    "        ]\n",
    "\n",
    "        print(\"bounds: {}\".format(\",\".join(vertices)))\n",
    "    '''\n",
    "    if response.error.message:\n",
    "        raise Exception(\n",
    "            \"{}\\nFor more info on error messages, check: \"\n",
    "            \"https://cloud.google.com/apis/design/errors\".format(response.error.message)\n",
    "            )\n",
    "    return response"
   ]
  },
  {
   "cell_type": "code",
   "execution_count": 95,
   "metadata": {},
   "outputs": [],
   "source": [
    "# Apply function to an receipt\n",
    "response = detect_text(\"rewe_scanned/Rewe15.jpg\")"
   ]
  },
  {
   "cell_type": "code",
   "execution_count": 96,
   "metadata": {},
   "outputs": [],
   "source": [
    "# The text_annotations contain the recognized text and the corresponding bounding boxes\n",
    "# the first entry contains the whole text from the receipt and the consecutive entries\n",
    "# contain the text/coordinates from the individual bounding boxes\n",
    "texts = response.text_annotations"
   ]
  },
  {
   "cell_type": "code",
   "execution_count": 97,
   "metadata": {},
   "outputs": [],
   "source": [
    "# Build dataframe, where bl: bottom_left, br: bottom_right, tr: top_right, tl: top_left\n",
    "# denote the corners of the BBs\n",
    "\n",
    "columns = [\"String\", \"x_bl\", \"y_bl\", \"x_br\", \"y_br\",\"x_tr\",\"y_tr\",\"x_tl\",\"y_tl\"] # uncomment if you need x coords as well\n",
    "#columns = [\"String\", \"y_bl\", \"y_br\",\"y_tr\",\"y_tl\"]\n",
    "df = pd.DataFrame(columns=columns)\n",
    "\n",
    "for i, text in enumerate(texts):\n",
    "    df.loc[i, \"String\"] = text.description\n",
    "    for j in range(4):\n",
    "        df.iloc[i,2*j+1] = text.bounding_poly.vertices[j].x  # uncomment if you need x coords as well \n",
    "        #df.iloc[i,j+1] = text.bounding_poly.vertices[j].y\n",
    "        df.iloc[i,2*j+2] = text.bounding_poly.vertices[j].y  # uncomment if you need x coords as well"
   ]
  },
  {
   "cell_type": "code",
   "execution_count": 98,
   "metadata": {},
   "outputs": [],
   "source": [
    "# convert the coords to integers for calculation of the mean BB positions\n",
    "df[['y_bl','y_br','y_tr','y_tl']] = df[['y_bl','y_br','y_tr','y_tl']].astype('int')\n",
    "# calulate mean BB positions\n",
    "df['mean_y'] = df.eval('(y_bl+y_br+y_tr+y_tl)/4')\n",
    "\n",
    "# sort DF by mean height to match text that appears in the same line\n",
    "df = df.sort_values(by=['mean_y']).reset_index(drop=True)"
   ]
  },
  {
   "cell_type": "code",
   "execution_count": 99,
   "metadata": {},
   "outputs": [],
   "source": [
    "# select only the block of the receipt where the products are listed\n",
    "product_list_start_ind = int(df[df.String== 'EUR'].index.values[0])+1\n",
    "product_list_end_ind = int(df[df.String=='SUMME'].index.values)\n",
    "df_products = df[product_list_start_ind:product_list_end_ind]"
   ]
  },
  {
   "cell_type": "code",
   "execution_count": 100,
   "metadata": {},
   "outputs": [],
   "source": [
    "# Create empty list and dataframe to fill it later on\n",
    "shown_indices = []\n",
    "columns = ['product_name','price']\n",
    "df_cleaned = pd.DataFrame(columns=columns)\n",
    "counter = 1 # used to build the cleaned data frame row by row\n",
    "\n",
    "# check if consecutive rows in df_products belong to the same line in the receipt\n",
    "for i in df_products['mean_y']:\n",
    "    condition = (df_products['mean_y'] >= i) & (df_products['mean_y'] < i + 10)\n",
    "    indices = df_products.index[condition] # store the indices that fulfill the condition\n",
    "    \n",
    "    # check if the indices have been shown before\n",
    "    if not any(idx in shown_indices for idx in indices):\n",
    "        # only keep lines that end with A,B or * and write product_names and prices into df_cleaned\n",
    "        chars = ['A','B','*']\n",
    "        selected = df_products.loc[indices].sort_values(by=['x_bl'])['String']\n",
    "        if selected.iloc[-1] in chars:\n",
    "            if selected.iloc[-1] == '*':\n",
    "                df_cleaned.loc[counter,'product_name'] = ' '.join(selected.iloc[:-3])\n",
    "                df_cleaned.loc[counter,'price'] = selected.iloc[-3].replace(',','.')\n",
    "            else:\n",
    "                df_cleaned.loc[counter,'product_name'] = ' '.join(selected.iloc[:-2])\n",
    "                df_cleaned.loc[counter,'price'] = selected.iloc[-2].replace(',','.')\n",
    "            counter += 1\n",
    "        shown_indices.extend(indices)"
   ]
  },
  {
   "cell_type": "code",
   "execution_count": 101,
   "metadata": {},
   "outputs": [],
   "source": [
    "# convert the price column to floats\n",
    "df_cleaned.price = df_cleaned.price.astype('float')"
   ]
  },
  {
   "cell_type": "code",
   "execution_count": 102,
   "metadata": {},
   "outputs": [
    {
     "data": {
      "text/html": [
       "<div>\n",
       "<style scoped>\n",
       "    .dataframe tbody tr th:only-of-type {\n",
       "        vertical-align: middle;\n",
       "    }\n",
       "\n",
       "    .dataframe tbody tr th {\n",
       "        vertical-align: top;\n",
       "    }\n",
       "\n",
       "    .dataframe thead th {\n",
       "        text-align: right;\n",
       "    }\n",
       "</style>\n",
       "<table border=\"1\" class=\"dataframe\">\n",
       "  <thead>\n",
       "    <tr style=\"text-align: right;\">\n",
       "      <th></th>\n",
       "      <th>product_name</th>\n",
       "      <th>price</th>\n",
       "    </tr>\n",
       "  </thead>\n",
       "  <tbody>\n",
       "    <tr>\n",
       "      <th>1</th>\n",
       "      <td>KRUSTENBROT</td>\n",
       "      <td>1.49</td>\n",
       "    </tr>\n",
       "    <tr>\n",
       "      <th>2</th>\n",
       "      <td>CHAMP . WEISS</td>\n",
       "      <td>1.99</td>\n",
       "    </tr>\n",
       "    <tr>\n",
       "      <th>3</th>\n",
       "      <td>KRAEUTER</td>\n",
       "      <td>1.69</td>\n",
       "    </tr>\n",
       "    <tr>\n",
       "      <th>4</th>\n",
       "      <td>RISOTTOREIS</td>\n",
       "      <td>4.58</td>\n",
       "    </tr>\n",
       "    <tr>\n",
       "      <th>5</th>\n",
       "      <td>ZIMTSTERNE</td>\n",
       "      <td>4.49</td>\n",
       "    </tr>\n",
       "    <tr>\n",
       "      <th>6</th>\n",
       "      <td>DOPPELKEKS GF</td>\n",
       "      <td>2.99</td>\n",
       "    </tr>\n",
       "    <tr>\n",
       "      <th>7</th>\n",
       "      <td>LAYS SALT &amp; VINEG .</td>\n",
       "      <td>1.99</td>\n",
       "    </tr>\n",
       "    <tr>\n",
       "      <th>8</th>\n",
       "      <td>WERNESGR ALKFR</td>\n",
       "      <td>11.40</td>\n",
       "    </tr>\n",
       "    <tr>\n",
       "      <th>9</th>\n",
       "      <td>PFAND 0,08 EUR</td>\n",
       "      <td>0.96</td>\n",
       "    </tr>\n",
       "    <tr>\n",
       "      <th>10</th>\n",
       "      <td>MUELLSACK 60L</td>\n",
       "      <td>3.99</td>\n",
       "    </tr>\n",
       "    <tr>\n",
       "      <th>11</th>\n",
       "      <td>KASTEN LEER</td>\n",
       "      <td>1.50</td>\n",
       "    </tr>\n",
       "  </tbody>\n",
       "</table>\n",
       "</div>"
      ],
      "text/plain": [
       "           product_name  price\n",
       "1           KRUSTENBROT   1.49\n",
       "2         CHAMP . WEISS   1.99\n",
       "3              KRAEUTER   1.69\n",
       "4           RISOTTOREIS   4.58\n",
       "5            ZIMTSTERNE   4.49\n",
       "6         DOPPELKEKS GF   2.99\n",
       "7   LAYS SALT & VINEG .   1.99\n",
       "8        WERNESGR ALKFR  11.40\n",
       "9        PFAND 0,08 EUR   0.96\n",
       "10        MUELLSACK 60L   3.99\n",
       "11          KASTEN LEER   1.50"
      ]
     },
     "execution_count": 102,
     "metadata": {},
     "output_type": "execute_result"
    }
   ],
   "source": [
    "df_cleaned"
   ]
  }
 ],
 "metadata": {
  "kernelspec": {
   "display_name": ".venv",
   "language": "python",
   "name": "python3"
  },
  "language_info": {
   "codemirror_mode": {
    "name": "ipython",
    "version": 3
   },
   "file_extension": ".py",
   "mimetype": "text/x-python",
   "name": "python",
   "nbconvert_exporter": "python",
   "pygments_lexer": "ipython3",
   "version": "3.11.3"
  }
 },
 "nbformat": 4,
 "nbformat_minor": 2
}
