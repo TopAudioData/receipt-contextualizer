{
 "cells": [
  {
   "cell_type": "code",
   "execution_count": 767,
   "metadata": {},
   "outputs": [],
   "source": [
    "# import libraries\n",
    "import os\n",
    "from dotenv import load_dotenv\n",
    "import pandas as pd\n",
    "import numpy as np\n",
    "from os import listdir\n",
    "from os.path import join\n",
    "from natsort import natsorted # needed for sorting filenames of the receipts\n",
    "from datetime import datetime\n",
    "from scipy.signal import argrelmin, argrelmax\n",
    "import numpy as np\n",
    "import re\n",
    "\n",
    "SA_KEY=os.getenv(\"GOOGLE_SA_KEY\")\n",
    "os.environ[\"GOOGLE_APPLICATION_CREDENTIALS\"] = SA_KEY"
   ]
  },
  {
   "cell_type": "code",
   "execution_count": 768,
   "metadata": {},
   "outputs": [],
   "source": [
    "# Googles OCR function\n",
    "def detect_text(path):\n",
    "    \"\"\"Detects text in the file.\"\"\"\n",
    "    from google.cloud import vision\n",
    "\n",
    "    client = vision.ImageAnnotatorClient()\n",
    "\n",
    "    with open(path, \"rb\") as image_file:\n",
    "        content = image_file.read()\n",
    "\n",
    "    image = vision.Image(content=content)\n",
    "\n",
    "    response = client.text_detection(image=image)\n",
    "    texts = response.text_annotations\n",
    "    \n",
    "    '''\n",
    "    # commented out to supress printed output of the function\n",
    "    print(\"Texts:\")\n",
    "    for text in texts:\n",
    "        print(f'\\n\"{text.description}\"')\n",
    "\n",
    "        vertices = [\n",
    "            f\"({vertex.x},{vertex.y})\" for vertex in text.bounding_poly.vertices\n",
    "        ]\n",
    "\n",
    "        print(\"bounds: {}\".format(\",\".join(vertices)))\n",
    "    '''\n",
    "    if response.error.message:\n",
    "        raise Exception(\n",
    "            \"{}\\nFor more info on error messages, check: \"\n",
    "            \"https://cloud.google.com/apis/design/errors\".format(response.error.message)\n",
    "            )\n",
    "    return response"
   ]
  },
  {
   "cell_type": "code",
   "execution_count": 769,
   "metadata": {},
   "outputs": [
    {
     "data": {
      "text/plain": [
       "['Rewe_1.jpg',\n",
       " 'Rewe_2.jpg',\n",
       " 'Rewe_3.jpg',\n",
       " 'Rewe_4.jpg',\n",
       " 'Rewe_5.jpg',\n",
       " 'Rewe_6.jpg',\n",
       " 'Rewe_7.jpg',\n",
       " 'Rewe_8.jpg',\n",
       " 'Rewe_9.jpg',\n",
       " 'Rewe_10.jpg',\n",
       " 'Rewe_11.jpg',\n",
       " 'Rewe_12.jpg',\n",
       " 'Rewe_13.jpg',\n",
       " 'Rewe_14.jpg',\n",
       " 'Rewe_15.jpg',\n",
       " 'Rewe_16.jpg',\n",
       " 'Rewe_T5.jpg',\n",
       " 'Rewe_T7.jpg',\n",
       " 'Rewe_T9.jpg',\n",
       " 'Rewe_T12.jpg',\n",
       " 'Rewe_T16.jpg',\n",
       " 'Rewe_T17.jpg',\n",
       " 'Rewe_T18.jpg']"
      ]
     },
     "execution_count": 769,
     "metadata": {},
     "output_type": "execute_result"
    }
   ],
   "source": [
    "# find all receipts in the specified path and sort them in ascending order\n",
    "path = '../rewe_scanned/'\n",
    "files = natsorted(listdir(path))\n",
    "files.pop(0) # remove DSstore file\n",
    "files"
   ]
  },
  {
   "cell_type": "code",
   "execution_count": 1216,
   "metadata": {},
   "outputs": [],
   "source": [
    "    filename = 'Rewe_T12.jpg'\n",
    "\n",
    "    # Apply function to an receipt\n",
    "    response = detect_text(join(path,filename))\n",
    "\n",
    "    # The text_annotations contain the recognized text and the corresponding bounding boxes\n",
    "    # the first entry contains the whole text from the receipt and the consecutive entries\n",
    "    # contain the text/coordinates from the individual bounding boxes\n",
    "    texts = response.text_annotations\n",
    "\n",
    "    # Build dataframe, where bl: bottom_left, br: bottom_right, tr: top_right, tl: top_left\n",
    "    # denote the corners of the BBs\n",
    "    columns = [\"String\", \"x_bl\", \"y_bl\", \"x_br\", \"y_br\",\"x_tr\",\"y_tr\",\"x_tl\",\"y_tl\"] # uncomment if you need x coords as well\n",
    "    #columns = [\"String\", \"y_bl\", \"y_br\",\"y_tr\",\"y_tl\"]\n",
    "    df = pd.DataFrame(columns=columns)\n",
    "\n",
    "    for i, text in enumerate(texts[1:]):\n",
    "        df.loc[i, \"String\"] = text.description\n",
    "        for j in range(4):\n",
    "            df.iloc[i,2*j+1] = text.bounding_poly.vertices[j].x  # uncomment if you need x coords as well \n",
    "            #df.iloc[i,j+1] = text.bounding_poly.vertices[j].y\n",
    "            df.iloc[i,2*j+2] = text.bounding_poly.vertices[j].y  # uncomment if you need x coords as well\n",
    "\n",
    "    # convert the coords to integers for calculation of the mean BB positions\n",
    "    df[['y_bl','y_br','y_tr','y_tl']] = df[['y_bl','y_br','y_tr','y_tl']].astype('int')\n",
    "    # calulate mean BB positions\n",
    "    df['mean_y'] = df.eval('(y_bl+y_br+y_tr+y_tl)/4')\n",
    "\n",
    "    # sort DF by mean height to match text that appears in the same line\n",
    "    df = df.sort_values(by=['mean_y']).reset_index(drop=True)\n",
    "\n",
    "    # select only the block of the receipt where the products are listed\n",
    "    product_list_start_ind = int(df[df.String== 'EUR'].index.values[0])+1\n",
    "    try:\n",
    "        product_list_end_ind = int(df[df.String=='SUMME'].index.values)\n",
    "    except:\n",
    "        product_list_end_ind = int(df[df.String=='SUM'].index.values)\n",
    "\n",
    "    df_products = df[product_list_start_ind:product_list_end_ind]"
   ]
  },
  {
   "cell_type": "code",
   "execution_count": 1217,
   "metadata": {},
   "outputs": [],
   "source": [
    "df_products.reset_index(drop=True,inplace=True)"
   ]
  },
  {
   "cell_type": "code",
   "execution_count": 1218,
   "metadata": {},
   "outputs": [],
   "source": [
    "x = np.linspace(1,df_products.shape[0],num=df_products.shape[0])"
   ]
  },
  {
   "cell_type": "code",
   "execution_count": 1219,
   "metadata": {},
   "outputs": [],
   "source": [
    "slope = (max(df_products.mean_y)-min(df_products.mean_y))/df_products.shape[0]"
   ]
  },
  {
   "cell_type": "code",
   "execution_count": 1220,
   "metadata": {},
   "outputs": [],
   "source": [
    "y_flat = df_products.mean_y - slope*x-min(df_products.mean_y)"
   ]
  },
  {
   "cell_type": "code",
   "execution_count": 1221,
   "metadata": {},
   "outputs": [],
   "source": [
    "# for local maxima\n",
    "max_ind = argrelmax(y_flat.to_numpy())[0]\n",
    "max_ind = np.append(0,max_ind[:-1])\n",
    "\n",
    "# for local minima\n",
    "min_ind = argrelmin(y_flat.to_numpy())[0]"
   ]
  },
  {
   "cell_type": "code",
   "execution_count": 1222,
   "metadata": {},
   "outputs": [],
   "source": [
    "#pd.options.mode.chained_assignment = None  # default='warn'\n",
    "\n",
    "# label the rows of the dataframe with the corresponding lines on the receipt\n",
    "df_products['line']=''\n",
    "for i in range(len(max_ind)):\n",
    "    df_products['line'].iloc[max_ind[i]:min_ind[i]+1] = i\n",
    "df_products['line'].iloc[min_ind[i]+1:df_products.shape[0]] = i+1 # make sure the last line gets labeled as well\n"
   ]
  },
  {
   "cell_type": "code",
   "execution_count": 1223,
   "metadata": {},
   "outputs": [],
   "source": [
    "df_products = df_products.sort_values(by=['line','x_bl']).reset_index(drop=True)"
   ]
  },
  {
   "cell_type": "code",
   "execution_count": 1224,
   "metadata": {},
   "outputs": [],
   "source": [
    "df_sorted = df_products.groupby('line')['String'].apply(lambda x: ' '.join(x)).reset_index()"
   ]
  },
  {
   "cell_type": "code",
   "execution_count": 1225,
   "metadata": {},
   "outputs": [],
   "source": [
    "# sort out lines that do not contain any price information\n",
    "df_sorted = df_sorted[df_sorted['String'].str.contains(' B',case=True)|df_sorted['String'].str.contains(' A *',case=True)].reset_index(drop=True)"
   ]
  },
  {
   "cell_type": "code",
   "execution_count": 1226,
   "metadata": {},
   "outputs": [],
   "source": [
    "# remove the tax remarks at the end of the strings\n",
    "df_sorted['String'] = df_sorted['String'].str.replace(r' B$','',regex=True)\n",
    "df_sorted['String'] = df_sorted['String'].str.replace(r' A \\*$','',regex=True)\n",
    "df_sorted['String'] = df_sorted['String'].str.replace(r' A$','',regex=True)\n"
   ]
  },
  {
   "cell_type": "code",
   "execution_count": 1227,
   "metadata": {},
   "outputs": [],
   "source": [
    "def extract_price(input_str):\n",
    "    # Search for pattern: [whitespace][letter or percentage symbol]\n",
    "    match = re.search(r' [A-Za-z%]', input_str[::-1])\n",
    "    if match:\n",
    "        # position of the matching pattern\n",
    "        position = match.start()\n",
    "        # residual string starting from the position of the matched pattern\n",
    "        res_str = input_str[-position:]\n",
    "\n",
    "    return res_str"
   ]
  },
  {
   "cell_type": "code",
   "execution_count": 1228,
   "metadata": {},
   "outputs": [],
   "source": [
    "df_sorted['price'] = df_sorted['String'].apply(extract_price)\n",
    "# dirty-fix section\n",
    "df_sorted['price'] = df_sorted['price'].apply(lambda x: re.sub(f'^{re.escape(\"14 \")}', '',x))\n",
    "df_sorted['price'] = df_sorted['price'].apply(lambda x: re.sub(f'^{re.escape(\"2.0 \")}', '',x))\n",
    "df_sorted['price'] = df_sorted['price'].apply(lambda x: re.sub(f'^{re.escape(\"W. \")}', '',x))\n",
    "df_sorted['price'] = df_sorted['price'].apply(lambda x: re.sub(f'^{re.escape(\"102 \")}', '',x))"
   ]
  },
  {
   "cell_type": "code",
   "execution_count": 1229,
   "metadata": {},
   "outputs": [],
   "source": [
    "# remove the price from the string\n",
    "def replace_str(row):\n",
    "    return row['String'].replace(row['price'],'')\n",
    "\n",
    "df_sorted['String'] = df_sorted.apply(replace_str,axis=1)"
   ]
  },
  {
   "cell_type": "code",
   "execution_count": 1230,
   "metadata": {},
   "outputs": [],
   "source": [
    "# formatting of price column\n",
    "df_sorted['price'] = df_sorted['price'].str.lstrip('.B')\n",
    "df_sorted['price'] = df_sorted['price'].str.replace(',','.')\n",
    "df_sorted['price'] = df_sorted['price'].str.replace(' ','')\n",
    "df_sorted['price'] = df_sorted['price'].astype('float')"
   ]
  },
  {
   "cell_type": "code",
   "execution_count": 1231,
   "metadata": {},
   "outputs": [],
   "source": [
    "df_sorted.drop('line',axis=1,inplace=True)\n",
    "df_sorted.rename(columns={'String':'product_abbr'},inplace=True)"
   ]
  },
  {
   "cell_type": "code",
   "execution_count": 1232,
   "metadata": {},
   "outputs": [],
   "source": [
    "df_sorted['receipt_id'] = filename\n",
    "df_sorted['processing_date'] = datetime.today().strftime('%d-%m-%Y')"
   ]
  },
  {
   "cell_type": "code",
   "execution_count": 1233,
   "metadata": {},
   "outputs": [
    {
     "data": {
      "text/html": [
       "<div>\n",
       "<style scoped>\n",
       "    .dataframe tbody tr th:only-of-type {\n",
       "        vertical-align: middle;\n",
       "    }\n",
       "\n",
       "    .dataframe tbody tr th {\n",
       "        vertical-align: top;\n",
       "    }\n",
       "\n",
       "    .dataframe thead th {\n",
       "        text-align: right;\n",
       "    }\n",
       "</style>\n",
       "<table border=\"1\" class=\"dataframe\">\n",
       "  <thead>\n",
       "    <tr style=\"text-align: right;\">\n",
       "      <th></th>\n",
       "      <th>product_abbr</th>\n",
       "      <th>price</th>\n",
       "      <th>receipt_id</th>\n",
       "      <th>processing_date</th>\n",
       "    </tr>\n",
       "  </thead>\n",
       "  <tbody>\n",
       "    <tr>\n",
       "      <th>0</th>\n",
       "      <td>CASHEWKERNE</td>\n",
       "      <td>2.19</td>\n",
       "      <td>Rewe_T12.jpg</td>\n",
       "      <td>22-02-2024</td>\n",
       "    </tr>\n",
       "  </tbody>\n",
       "</table>\n",
       "</div>"
      ],
      "text/plain": [
       "   product_abbr  price    receipt_id processing_date\n",
       "0  CASHEWKERNE    2.19  Rewe_T12.jpg      22-02-2024"
      ]
     },
     "execution_count": 1233,
     "metadata": {},
     "output_type": "execute_result"
    }
   ],
   "source": [
    "df_sorted"
   ]
  }
 ],
 "metadata": {
  "kernelspec": {
   "display_name": ".venv",
   "language": "python",
   "name": "python3"
  },
  "language_info": {
   "codemirror_mode": {
    "name": "ipython",
    "version": 3
   },
   "file_extension": ".py",
   "mimetype": "text/x-python",
   "name": "python",
   "nbconvert_exporter": "python",
   "pygments_lexer": "ipython3",
   "version": "3.11.3"
  }
 },
 "nbformat": 4,
 "nbformat_minor": 2
}
