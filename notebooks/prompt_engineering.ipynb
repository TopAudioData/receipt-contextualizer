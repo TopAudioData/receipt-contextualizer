{
 "cells": [
  {
   "cell_type": "markdown",
   "metadata": {},
   "source": [
    "# Prompt engineering\n",
    "\n",
    "- Create prompt w/\n",
    "    - Role\n",
    "    - Set categories to classify\n",
    "    - Few-Shot-Examples\n",
    "    - Task\n",
    "    - Input for items to classify"
   ]
  },
  {
   "cell_type": "code",
   "execution_count": 87,
   "metadata": {},
   "outputs": [],
   "source": [
    "import json\n",
    "from mistralai.client import MistralClient\n",
    "from mistralai.models.chat_completion import ChatMessage\n",
    "\n",
    "import os\n",
    "from dotenv import load_dotenv\n",
    "load_dotenv()\n",
    "\n",
    "api_key = os.getenv('MISTRAL_API_KEY')\n"
   ]
  },
  {
   "cell_type": "code",
   "execution_count": 53,
   "metadata": {},
   "outputs": [],
   "source": [
    "def run_mistral(user_message, model=\"mistral-medium\"):\n",
    "    client = MistralClient(api_key=api_key)\n",
    "    messages = [\n",
    "        ChatMessage(role=\"user\", content=user_message)\n",
    "    ]\n",
    "    chat_response = client.chat(\n",
    "        model=model,\n",
    "        messages=messages\n",
    "    )\n",
    "    return (chat_response, chat_response.choices[0].message.content)\n"
   ]
  },
  {
   "cell_type": "code",
   "execution_count": 54,
   "metadata": {},
   "outputs": [],
   "source": [
    "def get_rewe_categories():\n",
    "    # Import product categories as dict w/ key: main category, value: list of subcategories\n",
    "    with open('../data/categories_rewe.json') as f:\n",
    "        categories_rewe = json.load(f)\n",
    "\n",
    "    # Remove certain categories because they are actually labels\n",
    "    exclude_categories = ['Vegane Vielfalt', 'International', 'Regional']\n",
    "\n",
    "    for cat in exclude_categories:\n",
    "        categories_rewe.pop(cat, None)\n",
    "\n",
    "    # Include new categories needed for items that are not products\n",
    "    categories_rewe['Sonstige Positionen'] = ['Pfand & Leergut', 'Rabatt & Ermäßigung', 'Kategorie nicht erkannt']\n",
    "\n",
    "    # String categories together in a formatted string to insert in the prompt\n",
    "    categories_string = list()\n",
    "    for main_category in categories_rewe:\n",
    "        subs_string = '## Unterkategorien\\n' + '\\n'.join(categories_rewe[main_category])\n",
    "        categories_string.append(f'# Hauptkategorie\\n{main_category}\\n{subs_string}\\n')\n",
    "    categories_string = '\\n'.join(categories_string)\n",
    "\n",
    "    return categories_string"
   ]
  },
  {
   "cell_type": "code",
   "execution_count": 79,
   "metadata": {},
   "outputs": [],
   "source": [
    "def get_prompt(item, categories):\n",
    "\n",
    "    prompt = (\n",
    "        f\"\"\"\n",
    "        Du bist ein Experte für das Erkennen und Kategorisieren von verkürzten Produktnamen auf Supermarkt-Kassenbons.\n",
    "\n",
    "        Deine Aufgabe ist die folgende:\n",
    "        1. Löse den verkürzten Produktnamen in den Klammern <<< >>> zum vollständigen Produktnamen auf.\n",
    "        2. Ordne das Produkt der Hauptkategorien und der dazugehörige Unterkategorie zu, die das Produkt am besten klassifiziert.\n",
    "\n",
    "        Die möglichen Kategorien sind:\n",
    "\n",
    "        {categories}\n",
    "\n",
    "        Du wirst IN JEDEM FALL nur aus den vordefinierten Kategorien wählen. Deine Antwort enthält keine Erklärungen oder Anmerkungen. Die Antwort muss korrekt in JSON formatiert sein.\n",
    "\n",
    "        ###\n",
    "        Hier sind einige Beispiele:\n",
    "\n",
    "        Verkürzter Produktname: HAUCHSCHN CURRY\n",
    "        Antwort: [{{'product_name': 'Rügenwalder Mühle Veganer Hauchschnitt Typ Hähnchen', 'category_main': 'Fleisch & Fisch', 'category_sub': 'Fleischalternativen'}}]\n",
    "\n",
    "        Verkürzter Produktname: GRANATAPEL\n",
    "        Antwort: [{{'product_name': 'Granatapfel', 'category_main': 'Obst & Gemüse', 'category_sub': 'Frisches Obst'}}]\n",
    "\n",
    "        Verkürzter Produktname: KASTEN LEER\n",
    "        Antwort: [{{'product_name': 'Leergut Kasten', 'category_main': 'Sonstige Positionen', 'category_sub': 'Pfand & Leergut'}}]\n",
    "        ###\n",
    "\n",
    "        <<<\n",
    "        Verkürzter Produktname: {item}\n",
    "        >>>\n",
    "        \"\"\"\n",
    "    )\n",
    "    return prompt"
   ]
  },
  {
   "cell_type": "code",
   "execution_count": 80,
   "metadata": {},
   "outputs": [],
   "source": [
    "categories_rewe = get_rewe_categories()\n",
    "prompt = get_prompt(item='BROT VITAL GF', categories=categories_rewe)\n",
    "\n",
    "response, message = run_mistral(prompt)"
   ]
  },
  {
   "cell_type": "code",
   "execution_count": 88,
   "metadata": {},
   "outputs": [
    {
     "data": {
      "text/plain": [
       "{'id': '925da901a4d3451c974b5d98aaa8f3fc',\n",
       " 'object': 'chat.completion',\n",
       " 'created': 1708018394,\n",
       " 'model': 'mistral-medium',\n",
       " 'choices': [{'index': 0,\n",
       "   'message': {'role': 'assistant',\n",
       "    'content': \"[{'product_name': 'Brot Vital glutenfrei', 'category_main': 'Brot, Cerealien & Aufstriche', 'category_sub': 'Brot'}]\"},\n",
       "   'finish_reason': 'stop'}],\n",
       " 'usage': {'prompt_tokens': 1752,\n",
       "  'total_tokens': 1796,\n",
       "  'completion_tokens': 44}}"
      ]
     },
     "execution_count": 88,
     "metadata": {},
     "output_type": "execute_result"
    }
   ],
   "source": [
    "json.loads(response.json())"
   ]
  },
  {
   "cell_type": "code",
   "execution_count": 82,
   "metadata": {},
   "outputs": [
    {
     "data": {
      "text/plain": [
       "\"[{'product_name': 'Brot Vital glutenfrei', 'category_main': 'Brot, Cerealien & Aufstriche', 'category_sub': 'Brot'}]\""
      ]
     },
     "execution_count": 82,
     "metadata": {},
     "output_type": "execute_result"
    }
   ],
   "source": [
    "message"
   ]
  },
  {
   "cell_type": "code",
   "execution_count": null,
   "metadata": {},
   "outputs": [],
   "source": []
  },
  {
   "cell_type": "markdown",
   "metadata": {},
   "source": []
  }
 ],
 "metadata": {
  "kernelspec": {
   "display_name": ".venv",
   "language": "python",
   "name": "python3"
  },
  "language_info": {
   "codemirror_mode": {
    "name": "ipython",
    "version": 3
   },
   "file_extension": ".py",
   "mimetype": "text/x-python",
   "name": "python",
   "nbconvert_exporter": "python",
   "pygments_lexer": "ipython3",
   "version": "3.11.3"
  }
 },
 "nbformat": 4,
 "nbformat_minor": 2
}
