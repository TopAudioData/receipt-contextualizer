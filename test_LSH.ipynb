{
 "cells": [
  {
   "cell_type": "code",
   "execution_count": 161,
   "metadata": {},
   "outputs": [],
   "source": [
    "import pandas as pd\n",
    "import numpy as np \n",
    "import re\n",
    "from datasketch import MinHash, MinHashLSHForest\n",
    "import time\n"
   ]
  },
  {
   "cell_type": "markdown",
   "metadata": {},
   "source": [
    "Concentrate first on the REWE dataset from bavaria as it is the largest dataset that we have currently available."
   ]
  },
  {
   "cell_type": "code",
   "execution_count": 162,
   "metadata": {},
   "outputs": [
    {
     "data": {
      "text/plain": [
       "name        19438\n",
       "brand        1810\n",
       "ean         19498\n",
       "price         420\n",
       "grammage     5153\n",
       "category       19\n",
       "sale            2\n",
       "image       19499\n",
       "dtype: int64"
      ]
     },
     "execution_count": 162,
     "metadata": {},
     "output_type": "execute_result"
    }
   ],
   "source": [
    "df_bav = pd.read_csv('data/bavaria.csv')\n",
    "df_bav.nunique()"
   ]
  },
  {
   "cell_type": "code",
   "execution_count": 163,
   "metadata": {},
   "outputs": [
    {
     "data": {
      "text/plain": [
       "(22040, 8)"
      ]
     },
     "execution_count": 163,
     "metadata": {},
     "output_type": "execute_result"
    }
   ],
   "source": [
    "df_bav.shape "
   ]
  },
  {
   "cell_type": "markdown",
   "metadata": {},
   "source": [
    "We see that we have 2602 duplicated names, which indicates that some products occur multiple times in the dataset. This is because the products are classified into more than one category. Also, there are more unique EAN numbers than product names, which indicates that some products are listed under the same name, altough they might differ (e.g. by taste or color like in the case of \"Barilla Pesto alla Genovese 190g\" - which occurs 4 times: there are two different EAN numbers and the product appears in the two categories \"International\" and \"Öle, Soßen & Gewürze\"). "
   ]
  },
  {
   "cell_type": "code",
   "execution_count": 164,
   "metadata": {},
   "outputs": [
    {
     "data": {
      "text/html": [
       "<div>\n",
       "<style scoped>\n",
       "    .dataframe tbody tr th:only-of-type {\n",
       "        vertical-align: middle;\n",
       "    }\n",
       "\n",
       "    .dataframe tbody tr th {\n",
       "        vertical-align: top;\n",
       "    }\n",
       "\n",
       "    .dataframe thead th {\n",
       "        text-align: right;\n",
       "    }\n",
       "</style>\n",
       "<table border=\"1\" class=\"dataframe\">\n",
       "  <thead>\n",
       "    <tr style=\"text-align: right;\">\n",
       "      <th></th>\n",
       "      <th>name</th>\n",
       "      <th>brand</th>\n",
       "      <th>ean</th>\n",
       "      <th>price</th>\n",
       "      <th>grammage</th>\n",
       "      <th>category</th>\n",
       "      <th>sale</th>\n",
       "      <th>image</th>\n",
       "    </tr>\n",
       "  </thead>\n",
       "  <tbody>\n",
       "    <tr>\n",
       "      <th>45</th>\n",
       "      <td>Barilla Pesto alla Genovese 190g</td>\n",
       "      <td>Barilla</td>\n",
       "      <td>8076809513746</td>\n",
       "      <td>3.59</td>\n",
       "      <td>190g (1 kg = 18,89 €)</td>\n",
       "      <td>International</td>\n",
       "      <td>False</td>\n",
       "      <td>https://img.rewe-static.de/4840313/1435860_dig...</td>\n",
       "    </tr>\n",
       "    <tr>\n",
       "      <th>711</th>\n",
       "      <td>Barilla Pesto alla Genovese 190g</td>\n",
       "      <td>Barilla</td>\n",
       "      <td>8076809580724</td>\n",
       "      <td>3.59</td>\n",
       "      <td>190g (1 kg = 18,89 €)</td>\n",
       "      <td>International</td>\n",
       "      <td>False</td>\n",
       "      <td>https://img.rewe-static.de/7718084/38308979_di...</td>\n",
       "    </tr>\n",
       "    <tr>\n",
       "      <th>15942</th>\n",
       "      <td>Barilla Pesto alla Genovese 190g</td>\n",
       "      <td>Barilla</td>\n",
       "      <td>8076809513746</td>\n",
       "      <td>3.59</td>\n",
       "      <td>190g (1 kg = 18,89 €)</td>\n",
       "      <td>Öle, Soßen &amp; Gewürze</td>\n",
       "      <td>False</td>\n",
       "      <td>https://img.rewe-static.de/4840313/1435860_dig...</td>\n",
       "    </tr>\n",
       "    <tr>\n",
       "      <th>16488</th>\n",
       "      <td>Barilla Pesto alla Genovese 190g</td>\n",
       "      <td>Barilla</td>\n",
       "      <td>8076809580724</td>\n",
       "      <td>3.59</td>\n",
       "      <td>190g (1 kg = 18,89 €)</td>\n",
       "      <td>Öle, Soßen &amp; Gewürze</td>\n",
       "      <td>False</td>\n",
       "      <td>https://img.rewe-static.de/7718084/38308979_di...</td>\n",
       "    </tr>\n",
       "  </tbody>\n",
       "</table>\n",
       "</div>"
      ],
      "text/plain": [
       "                                   name    brand            ean  price   \n",
       "45     Barilla Pesto alla Genovese 190g  Barilla  8076809513746   3.59  \\\n",
       "711    Barilla Pesto alla Genovese 190g  Barilla  8076809580724   3.59   \n",
       "15942  Barilla Pesto alla Genovese 190g  Barilla  8076809513746   3.59   \n",
       "16488  Barilla Pesto alla Genovese 190g  Barilla  8076809580724   3.59   \n",
       "\n",
       "                    grammage              category   sale   \n",
       "45     190g (1 kg = 18,89 €)         International  False  \\\n",
       "711    190g (1 kg = 18,89 €)         International  False   \n",
       "15942  190g (1 kg = 18,89 €)  Öle, Soßen & Gewürze  False   \n",
       "16488  190g (1 kg = 18,89 €)  Öle, Soßen & Gewürze  False   \n",
       "\n",
       "                                                   image  \n",
       "45     https://img.rewe-static.de/4840313/1435860_dig...  \n",
       "711    https://img.rewe-static.de/7718084/38308979_di...  \n",
       "15942  https://img.rewe-static.de/4840313/1435860_dig...  \n",
       "16488  https://img.rewe-static.de/7718084/38308979_di...  "
      ]
     },
     "execution_count": 164,
     "metadata": {},
     "output_type": "execute_result"
    }
   ],
   "source": [
    "df_bav[df_bav.name == 'Barilla Pesto alla Genovese 190g']"
   ]
  },
  {
   "cell_type": "markdown",
   "metadata": {},
   "source": [
    "We will try LSH (**L**ocally **s**ensitive **h**ashing) on the dataset to determine if it can be used to predict the real product names from the abbreviated ones on the scanned receipts. For that we will need to preprocess (remove punctuation, lowercase all text and create n-gram shingles by separating the name strings) the data in order to improve the performance."
   ]
  },
  {
   "cell_type": "code",
   "execution_count": 165,
   "metadata": {},
   "outputs": [],
   "source": [
    "# Preprocess will split a string of text into individual tokens/shingles of length k that only contain lowercase letters\n",
    "def preprocess(text:str,k:int):\n",
    "    tokens = []\n",
    "    for i in range(len(text)-k+1):\n",
    "        tokens.append(text.lower()[i:i+k])\n",
    "    return set(tokens)"
   ]
  },
  {
   "cell_type": "code",
   "execution_count": 166,
   "metadata": {},
   "outputs": [],
   "source": [
    "# Number of permutations\n",
    "permutations = 256\n",
    "\n",
    "# Number of recommendations to return\n",
    "num_recommendatuions = 6"
   ]
  },
  {
   "cell_type": "code",
   "execution_count": 180,
   "metadata": {},
   "outputs": [],
   "source": [
    "# Function for creating MinHash forest for queries\n",
    "def get_forest(data, perms):\n",
    "    start_time = time.time()\n",
    "    minhash = []\n",
    "\n",
    "    # Pass in a dataframe with every string you want to query\n",
    "    for text in data['combi']: \n",
    "        tokens = preprocess(text,4) # Preprocess the string using the preprocessing defined above\n",
    "        m = MinHash(num_perm = perms) # Set the number of permutations in your MinHash\n",
    "        for s in tokens:\n",
    "            m.update(s.encode('utf8')) # MinHash the string of your shingles in the string\n",
    "        minhash.append(m) # Store the MinHash of the string\n",
    "\n",
    "    # Build a forest of all the MinHashed strings\n",
    "    forest = MinHashLSHForest(num_perm = perms)\n",
    "\n",
    "    for i,m in enumerate(minhash):\n",
    "        forest.add(i,m)\n",
    "    # Index your forest to make it searchable\n",
    "    forest.index()\n",
    "\n",
    "    print('It took %s second to build the forest.' %round(time.time()-start_time,3))\n",
    "\n",
    "    return forest"
   ]
  },
  {
   "cell_type": "code",
   "execution_count": 168,
   "metadata": {},
   "outputs": [],
   "source": [
    "# Function that evaluates queries\n",
    "def predict(text, database, perms, num_results, forest):\n",
    "    start_time = time.time()\n",
    "\n",
    "    tokens = preprocess(text,4) # Preprocess the query text into shingles\n",
    "    m = MinHash(num_perm = perms) # Set the same number of permutations for MinHash as was used to build the forest.\n",
    "    for s in tokens:\n",
    "        m.update(s.encode('utf8')) # Create your MinHash on the text using all your shingles\n",
    "\n",
    "    idx_array = np.array(forest.query(m,num_results)) # Query the forest with your MinHash and retrun number of requested recommendations\n",
    "    if len(idx_array) == 0:\n",
    "        return None  # if your query is empty, return none\n",
    "    \n",
    "    result = database.iloc[idx_array]['name'] # provide the names of the recommended products\n",
    "    print('It took %s seconds to query forest.' %round(time.time()-start_time,3))\n",
    "\n",
    "    return result"
   ]
  },
  {
   "cell_type": "code",
   "execution_count": 169,
   "metadata": {},
   "outputs": [
    {
     "data": {
      "text/html": [
       "<div>\n",
       "<style scoped>\n",
       "    .dataframe tbody tr th:only-of-type {\n",
       "        vertical-align: middle;\n",
       "    }\n",
       "\n",
       "    .dataframe tbody tr th {\n",
       "        vertical-align: top;\n",
       "    }\n",
       "\n",
       "    .dataframe thead th {\n",
       "        text-align: right;\n",
       "    }\n",
       "</style>\n",
       "<table border=\"1\" class=\"dataframe\">\n",
       "  <thead>\n",
       "    <tr style=\"text-align: right;\">\n",
       "      <th></th>\n",
       "      <th>name</th>\n",
       "      <th>brand</th>\n",
       "      <th>ean</th>\n",
       "      <th>price</th>\n",
       "      <th>grammage</th>\n",
       "      <th>category</th>\n",
       "      <th>sale</th>\n",
       "      <th>image</th>\n",
       "    </tr>\n",
       "  </thead>\n",
       "  <tbody>\n",
       "    <tr>\n",
       "      <th>0</th>\n",
       "      <td>Cherry Romatomaten 250g</td>\n",
       "      <td>REWE</td>\n",
       "      <td>8714467001556</td>\n",
       "      <td>0.99</td>\n",
       "      <td>250g (1 kg = 3,96 €)</td>\n",
       "      <td>International</td>\n",
       "      <td>False</td>\n",
       "      <td>https://img.rewe-static.de/1033906/23292477_di...</td>\n",
       "    </tr>\n",
       "    <tr>\n",
       "      <th>1</th>\n",
       "      <td>Bio Ingwer ca. 100g</td>\n",
       "      <td>NaN</td>\n",
       "      <td>22865830</td>\n",
       "      <td>0.79</td>\n",
       "      <td>1 Stück ca. 100 g (1 kg = 7,90 €)</td>\n",
       "      <td>International</td>\n",
       "      <td>False</td>\n",
       "      <td>https://img.rewe-static.de/1218820/24569461_di...</td>\n",
       "    </tr>\n",
       "    <tr>\n",
       "      <th>2</th>\n",
       "      <td>Süßkartoffel ca. 300g</td>\n",
       "      <td>NaN</td>\n",
       "      <td>20475963</td>\n",
       "      <td>0.69</td>\n",
       "      <td>1 Stück ca. 300 g (1 kg = 2,29 €)</td>\n",
       "      <td>International</td>\n",
       "      <td>True</td>\n",
       "      <td>https://img.rewe-static.de/0475963/24569668_di...</td>\n",
       "    </tr>\n",
       "    <tr>\n",
       "      <th>3</th>\n",
       "      <td>REWE Bio Rispentomaten 500g</td>\n",
       "      <td>REWE Bio</td>\n",
       "      <td>22610171</td>\n",
       "      <td>2.29</td>\n",
       "      <td>500g (1 kg = 4,58 €)</td>\n",
       "      <td>International</td>\n",
       "      <td>False</td>\n",
       "      <td>https://img.rewe-static.de/1041181/21289418_di...</td>\n",
       "    </tr>\n",
       "    <tr>\n",
       "      <th>4</th>\n",
       "      <td>Orangen 1,5kg im Netz</td>\n",
       "      <td>REWE Beste Wahl</td>\n",
       "      <td>22634276</td>\n",
       "      <td>2.49</td>\n",
       "      <td>1,50kg (1 kg = 1,66 €)</td>\n",
       "      <td>International</td>\n",
       "      <td>True</td>\n",
       "      <td>https://img.rewe-static.de/1057913/21306094_di...</td>\n",
       "    </tr>\n",
       "  </tbody>\n",
       "</table>\n",
       "</div>"
      ],
      "text/plain": [
       "                          name            brand            ean  price   \n",
       "0      Cherry Romatomaten 250g             REWE  8714467001556   0.99  \\\n",
       "1          Bio Ingwer ca. 100g              NaN       22865830   0.79   \n",
       "2        Süßkartoffel ca. 300g              NaN       20475963   0.69   \n",
       "3  REWE Bio Rispentomaten 500g         REWE Bio       22610171   2.29   \n",
       "4        Orangen 1,5kg im Netz  REWE Beste Wahl       22634276   2.49   \n",
       "\n",
       "                            grammage       category   sale   \n",
       "0               250g (1 kg = 3,96 €)  International  False  \\\n",
       "1  1 Stück ca. 100 g (1 kg = 7,90 €)  International  False   \n",
       "2  1 Stück ca. 300 g (1 kg = 2,29 €)  International   True   \n",
       "3               500g (1 kg = 4,58 €)  International  False   \n",
       "4             1,50kg (1 kg = 1,66 €)  International   True   \n",
       "\n",
       "                                               image  \n",
       "0  https://img.rewe-static.de/1033906/23292477_di...  \n",
       "1  https://img.rewe-static.de/1218820/24569461_di...  \n",
       "2  https://img.rewe-static.de/0475963/24569668_di...  \n",
       "3  https://img.rewe-static.de/1041181/21289418_di...  \n",
       "4  https://img.rewe-static.de/1057913/21306094_di...  "
      ]
     },
     "execution_count": 169,
     "metadata": {},
     "output_type": "execute_result"
    }
   ],
   "source": [
    "df_bav.head()"
   ]
  },
  {
   "cell_type": "code",
   "execution_count": 170,
   "metadata": {},
   "outputs": [],
   "source": [
    "df_bav.brand.fillna('',inplace=True)"
   ]
  },
  {
   "cell_type": "code",
   "execution_count": 171,
   "metadata": {},
   "outputs": [],
   "source": [
    "df_bav['price'] = df_bav.price.apply(lambda x: str(x))"
   ]
  },
  {
   "cell_type": "code",
   "execution_count": 172,
   "metadata": {},
   "outputs": [],
   "source": [
    "df_bav['combi']=df_bav.name + ' ' + df_bav.brand +' '+df_bav.price"
   ]
  },
  {
   "cell_type": "code",
   "execution_count": 173,
   "metadata": {},
   "outputs": [
    {
     "data": {
      "text/html": [
       "<div>\n",
       "<style scoped>\n",
       "    .dataframe tbody tr th:only-of-type {\n",
       "        vertical-align: middle;\n",
       "    }\n",
       "\n",
       "    .dataframe tbody tr th {\n",
       "        vertical-align: top;\n",
       "    }\n",
       "\n",
       "    .dataframe thead th {\n",
       "        text-align: right;\n",
       "    }\n",
       "</style>\n",
       "<table border=\"1\" class=\"dataframe\">\n",
       "  <thead>\n",
       "    <tr style=\"text-align: right;\">\n",
       "      <th></th>\n",
       "      <th>name</th>\n",
       "      <th>brand</th>\n",
       "      <th>ean</th>\n",
       "      <th>price</th>\n",
       "      <th>grammage</th>\n",
       "      <th>category</th>\n",
       "      <th>sale</th>\n",
       "      <th>image</th>\n",
       "      <th>combi</th>\n",
       "    </tr>\n",
       "  </thead>\n",
       "  <tbody>\n",
       "    <tr>\n",
       "      <th>0</th>\n",
       "      <td>Cherry Romatomaten 250g</td>\n",
       "      <td>REWE</td>\n",
       "      <td>8714467001556</td>\n",
       "      <td>0.99</td>\n",
       "      <td>250g (1 kg = 3,96 €)</td>\n",
       "      <td>International</td>\n",
       "      <td>False</td>\n",
       "      <td>https://img.rewe-static.de/1033906/23292477_di...</td>\n",
       "      <td>Cherry Romatomaten 250g REWE 0.99</td>\n",
       "    </tr>\n",
       "    <tr>\n",
       "      <th>1</th>\n",
       "      <td>Bio Ingwer ca. 100g</td>\n",
       "      <td></td>\n",
       "      <td>22865830</td>\n",
       "      <td>0.79</td>\n",
       "      <td>1 Stück ca. 100 g (1 kg = 7,90 €)</td>\n",
       "      <td>International</td>\n",
       "      <td>False</td>\n",
       "      <td>https://img.rewe-static.de/1218820/24569461_di...</td>\n",
       "      <td>Bio Ingwer ca. 100g  0.79</td>\n",
       "    </tr>\n",
       "    <tr>\n",
       "      <th>2</th>\n",
       "      <td>Süßkartoffel ca. 300g</td>\n",
       "      <td></td>\n",
       "      <td>20475963</td>\n",
       "      <td>0.69</td>\n",
       "      <td>1 Stück ca. 300 g (1 kg = 2,29 €)</td>\n",
       "      <td>International</td>\n",
       "      <td>True</td>\n",
       "      <td>https://img.rewe-static.de/0475963/24569668_di...</td>\n",
       "      <td>Süßkartoffel ca. 300g  0.69</td>\n",
       "    </tr>\n",
       "    <tr>\n",
       "      <th>3</th>\n",
       "      <td>REWE Bio Rispentomaten 500g</td>\n",
       "      <td>REWE Bio</td>\n",
       "      <td>22610171</td>\n",
       "      <td>2.29</td>\n",
       "      <td>500g (1 kg = 4,58 €)</td>\n",
       "      <td>International</td>\n",
       "      <td>False</td>\n",
       "      <td>https://img.rewe-static.de/1041181/21289418_di...</td>\n",
       "      <td>REWE Bio Rispentomaten 500g REWE Bio 2.29</td>\n",
       "    </tr>\n",
       "    <tr>\n",
       "      <th>4</th>\n",
       "      <td>Orangen 1,5kg im Netz</td>\n",
       "      <td>REWE Beste Wahl</td>\n",
       "      <td>22634276</td>\n",
       "      <td>2.49</td>\n",
       "      <td>1,50kg (1 kg = 1,66 €)</td>\n",
       "      <td>International</td>\n",
       "      <td>True</td>\n",
       "      <td>https://img.rewe-static.de/1057913/21306094_di...</td>\n",
       "      <td>Orangen 1,5kg im Netz REWE Beste Wahl 2.49</td>\n",
       "    </tr>\n",
       "  </tbody>\n",
       "</table>\n",
       "</div>"
      ],
      "text/plain": [
       "                          name            brand            ean price   \n",
       "0      Cherry Romatomaten 250g             REWE  8714467001556  0.99  \\\n",
       "1          Bio Ingwer ca. 100g                        22865830  0.79   \n",
       "2        Süßkartoffel ca. 300g                        20475963  0.69   \n",
       "3  REWE Bio Rispentomaten 500g         REWE Bio       22610171  2.29   \n",
       "4        Orangen 1,5kg im Netz  REWE Beste Wahl       22634276  2.49   \n",
       "\n",
       "                            grammage       category   sale   \n",
       "0               250g (1 kg = 3,96 €)  International  False  \\\n",
       "1  1 Stück ca. 100 g (1 kg = 7,90 €)  International  False   \n",
       "2  1 Stück ca. 300 g (1 kg = 2,29 €)  International   True   \n",
       "3               500g (1 kg = 4,58 €)  International  False   \n",
       "4             1,50kg (1 kg = 1,66 €)  International   True   \n",
       "\n",
       "                                               image   \n",
       "0  https://img.rewe-static.de/1033906/23292477_di...  \\\n",
       "1  https://img.rewe-static.de/1218820/24569461_di...   \n",
       "2  https://img.rewe-static.de/0475963/24569668_di...   \n",
       "3  https://img.rewe-static.de/1041181/21289418_di...   \n",
       "4  https://img.rewe-static.de/1057913/21306094_di...   \n",
       "\n",
       "                                        combi  \n",
       "0           Cherry Romatomaten 250g REWE 0.99  \n",
       "1                   Bio Ingwer ca. 100g  0.79  \n",
       "2                 Süßkartoffel ca. 300g  0.69  \n",
       "3   REWE Bio Rispentomaten 500g REWE Bio 2.29  \n",
       "4  Orangen 1,5kg im Netz REWE Beste Wahl 2.49  "
      ]
     },
     "execution_count": 173,
     "metadata": {},
     "output_type": "execute_result"
    }
   ],
   "source": [
    "df_bav.head()"
   ]
  },
  {
   "cell_type": "code",
   "execution_count": 174,
   "metadata": {},
   "outputs": [
    {
     "data": {
      "text/plain": [
       "'[0.99 0.79 0.69 ... 5.49 2.49 2.49]'"
      ]
     },
     "execution_count": 174,
     "metadata": {},
     "output_type": "execute_result"
    }
   ],
   "source": [
    "price"
   ]
  },
  {
   "cell_type": "code",
   "execution_count": 181,
   "metadata": {},
   "outputs": [
    {
     "name": "stdout",
     "output_type": "stream",
     "text": [
      "It took 23.425 second to build the forest.\n"
     ]
    }
   ],
   "source": [
    "forest = get_forest(df_bav,permutations)"
   ]
  },
  {
   "cell_type": "code",
   "execution_count": 195,
   "metadata": {},
   "outputs": [
    {
     "name": "stdout",
     "output_type": "stream",
     "text": [
      "It took 0.004 seconds to query forest.\n",
      "\n",
      " Top Recommendation(s) is(are) \n",
      " 12359    Sternenfair Fettarme H-Milch 1,5% 1l\n",
      "13096      Allgäuer Hof-Milch H-Milch 1,5% 1l\n",
      "12681         Weihenstephan H-Milch 1,5% 0,5l\n",
      "13615                     ja! H-Milch 1,5% 1l\n",
      "17426    Sternenfair Fettarme H-Milch 1,5% 1l\n",
      "12221       REWE Bio Fettarme H-Milch 1,5% 1l\n",
      "Name: name, dtype: object\n"
     ]
    }
   ],
   "source": [
    "name = 'ja! H-milch 1.5'\n",
    "result = predict(name,df_bav,permutations,num_recommendatuions,forest)\n",
    "print('\\n Top Recommendation(s) is(are) \\n', result)"
   ]
  },
  {
   "cell_type": "code",
   "execution_count": null,
   "metadata": {},
   "outputs": [],
   "source": []
  }
 ],
 "metadata": {
  "kernelspec": {
   "display_name": ".venv",
   "language": "python",
   "name": "python3"
  },
  "language_info": {
   "codemirror_mode": {
    "name": "ipython",
    "version": 3
   },
   "file_extension": ".py",
   "mimetype": "text/x-python",
   "name": "python",
   "nbconvert_exporter": "python",
   "pygments_lexer": "ipython3",
   "version": "3.11.3"
  }
 },
 "nbformat": 4,
 "nbformat_minor": 2
}
